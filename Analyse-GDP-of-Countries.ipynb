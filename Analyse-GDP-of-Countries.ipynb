{
  "cells": [
    {
      "cell_type": "markdown",
      "metadata": {
        "id": "RohM20NaVOC9"
      },
      "source": [
        "# Analyse GDP of Countries\n",
        "\n",
        "DESCRIPTION\n",
        "\n",
        "Problem Statement: Evaluate the dataset containing the GDPs of different countries to:\n",
        "\n",
        "    Find and print the name of the country with the highest GDP\n",
        "    Find and print the name of the country with the lowest GDP\n",
        "    Print out text and input values iteratively\n",
        "    Print out the entire list of the countries with their GDPs\n",
        "    Print the highest GDP value, lowest GDP value, mean GDP value, standardized GDP value, and the sum of all the GDPs\n",
        "\n"
      ]
    },
    {
      "cell_type": "markdown",
      "metadata": {
        "id": "DQ0IxUKjVTt0"
      },
      "source": [
        "**Libraries**"
      ]
    },
    {
      "cell_type": "code",
      "execution_count": null,
      "metadata": {
        "id": "7aRIta3hVBnl"
      },
      "outputs": [],
      "source": [
        "import numpy as np"
      ]
    },
    {
      "cell_type": "code",
      "execution_count": null,
      "metadata": {
        "id": "nj0FyNAPDRPG"
      },
      "outputs": [],
      "source": [
        "#list of each countries\n",
        "countries=['Algeria','Angola','Argentina','Australia','Austria','Bahamas','Bangladesh','Belarus','Belgium','Bhutan','Brazil','Bulgaria','Cambodia','Cameroon','Chile','China','Colombia','Cyprus','Denmark','El Salvador','Estonia','Ethiopia','Fiji','Finland','France','Georgia','Ghana','Grenada','Guinea','Haiti','Honduras','Hungary','India','Indonesia','Ireland','Italy','Japan','Kenya', 'South Korea','Liberia','Malaysia','Mexico', 'Morocco','Nepal','New Zealand','Norway','Pakistan', 'Peru','Qatar','Russia','Singapore','South Africa','Spain','Sweden','Switzerland','Thailand', 'United Arab Emirates','United Kingdom','United States','Uruguay','Venezuela','Vietnam','Zimbabwe']\n",
        "#list of percentage\n",
        "percentages=[2255.225482,629.9553062,11601.63022,25306.82494,27266.40335,19466.99052,588.3691778,2890.345675,24733.62696,1445.760002,4803.398244,2618.876037,590.4521124,665.7982328,7122.938458,2639.54156,3362.4656,15378.16704,30860.12808,2579.115607,6525.541272,229.6769525,2242.689259,27570.4852,23016.84778,1334.646773,402.6953275,6047.200797,394.1156638,385.5793827,1414.072488,5745.981529,837.7464011,1206.991065,27715.52837,18937.24998,39578.07441,478.2194906,16684.21278,279.2204061,5345.213415,6288.25324,1908.304416,274.8728621,14646.42094,40034.85063,672.1547506,3359.517402,36152.66676,3054.727742,33529.83052,3825.093781,15428.32098,33630.24604,39170.41371,2699.123242,21058.43643,28272.40661,37691.02733,9581.05659,5671.912202,757.4009286,347.7456605]"
      ]
    },
    {
      "cell_type": "markdown",
      "metadata": {
        "id": "o33e_1yqGNSG"
      },
      "source": [
        "**Find and print the name of the country with the highest GDP**"
      ]
    },
    {
      "cell_type": "code",
      "execution_count": null,
      "metadata": {
        "colab": {
          "base_uri": "https://localhost:8080/"
        },
        "id": "JEbXEOFrGLqD",
        "outputId": "17c428c6-ddbb-450c-b6bc-ba1b7a306b6b"
      },
      "outputs": [
        {
          "output_type": "stream",
          "name": "stdout",
          "text": [
            "45\n",
            "Highest GDP name of the country : Norway\n"
          ]
        }
      ],
      "source": [
        "Percentage=np.array(percentages)\n",
        "print(Percentage.argmax())\n",
        "#Highest GDP of the country\n",
        "country=countries[Percentage.argmax()]\n",
        "print('Highest GDP name of the country :',country)"
      ]
    },
    {
      "cell_type": "markdown",
      "metadata": {
        "id": "B51wrvtEVpwO"
      },
      "source": [
        "**Find and print the name of the country with the lowest GDP**"
      ]
    },
    {
      "cell_type": "code",
      "execution_count": null,
      "metadata": {
        "colab": {
          "base_uri": "https://localhost:8080/"
        },
        "id": "9S7TVlpDVo4l",
        "outputId": "70487dd4-e515-419e-c6f5-af6669fbcafc"
      },
      "outputs": [
        {
          "output_type": "stream",
          "name": "stdout",
          "text": [
            "21\n",
            "Lowest GDP name of the country : Ethiopia\n"
          ]
        }
      ],
      "source": [
        "Percentage=np.array(percentages)\n",
        "print(Percentage.argmin())\n",
        "#Highest GDP of the country\n",
        "country=countries[Percentage.argmin()]\n",
        "print('Lowest GDP name of the country :',country)"
      ]
    },
    {
      "cell_type": "markdown",
      "metadata": {
        "id": "MZX9gLanWomb"
      },
      "source": [
        "**Print out text and input values iteratively**"
      ]
    },
    {
      "cell_type": "code",
      "execution_count": null,
      "metadata": {
        "colab": {
          "base_uri": "https://localhost:8080/"
        },
        "id": "G1Ce2Ln2WZl9",
        "outputId": "172ffeec-641c-4524-eb1e-027455fa587f"
      },
      "outputs": [
        {
          "output_type": "stream",
          "name": "stdout",
          "text": [
            "Evaluate Country Names: Algeria\n",
            "Evaluate Country Names: Angola\n",
            "Evaluate Country Names: Argentina\n",
            "Evaluate Country Names: Australia\n",
            "Evaluate Country Names: Austria\n",
            "Evaluate Country Names: Bahamas\n",
            "Evaluate Country Names: Bangladesh\n",
            "Evaluate Country Names: Belarus\n",
            "Evaluate Country Names: Belgium\n",
            "Evaluate Country Names: Bhutan\n",
            "Evaluate Country Names: Brazil\n",
            "Evaluate Country Names: Bulgaria\n",
            "Evaluate Country Names: Cambodia\n",
            "Evaluate Country Names: Cameroon\n",
            "Evaluate Country Names: Chile\n",
            "Evaluate Country Names: China\n",
            "Evaluate Country Names: Colombia\n",
            "Evaluate Country Names: Cyprus\n",
            "Evaluate Country Names: Denmark\n",
            "Evaluate Country Names: El Salvador\n",
            "Evaluate Country Names: Estonia\n",
            "Evaluate Country Names: Ethiopia\n",
            "Evaluate Country Names: Fiji\n",
            "Evaluate Country Names: Finland\n",
            "Evaluate Country Names: France\n",
            "Evaluate Country Names: Georgia\n",
            "Evaluate Country Names: Ghana\n",
            "Evaluate Country Names: Grenada\n",
            "Evaluate Country Names: Guinea\n",
            "Evaluate Country Names: Haiti\n",
            "Evaluate Country Names: Honduras\n",
            "Evaluate Country Names: Hungary\n",
            "Evaluate Country Names: India\n",
            "Evaluate Country Names: Indonesia\n",
            "Evaluate Country Names: Ireland\n",
            "Evaluate Country Names: Italy\n",
            "Evaluate Country Names: Japan\n",
            "Evaluate Country Names: Kenya\n",
            "Evaluate Country Names: South Korea\n",
            "Evaluate Country Names: Liberia\n",
            "Evaluate Country Names: Malaysia\n",
            "Evaluate Country Names: Mexico\n",
            "Evaluate Country Names: Morocco\n",
            "Evaluate Country Names: Nepal\n",
            "Evaluate Country Names: New Zealand\n",
            "Evaluate Country Names: Norway\n",
            "Evaluate Country Names: Pakistan\n",
            "Evaluate Country Names: Peru\n",
            "Evaluate Country Names: Qatar\n",
            "Evaluate Country Names: Russia\n",
            "Evaluate Country Names: Singapore\n",
            "Evaluate Country Names: South Africa\n",
            "Evaluate Country Names: Spain\n",
            "Evaluate Country Names: Sweden\n",
            "Evaluate Country Names: Switzerland\n",
            "Evaluate Country Names: Thailand\n",
            "Evaluate Country Names: United Arab Emirates\n",
            "Evaluate Country Names: United Kingdom\n",
            "Evaluate Country Names: United States\n",
            "Evaluate Country Names: Uruguay\n",
            "Evaluate Country Names: Venezuela\n",
            "Evaluate Country Names: Vietnam\n",
            "Evaluate Country Names: Zimbabwe\n"
          ]
        }
      ],
      "source": [
        "for countrys in countries:\n",
        "  print('Evaluate Country Names:',format(countrys))"
      ]
    },
    {
      "cell_type": "markdown",
      "source": [
        "**Print out the entire list of the countries with their GDPs**"
      ],
      "metadata": {
        "id": "rw6-Vr62nilW"
      }
    },
    {
      "cell_type": "code",
      "source": [
        "len(countries)"
      ],
      "metadata": {
        "colab": {
          "base_uri": "https://localhost:8080/"
        },
        "id": "LfFfNS2yUSZf",
        "outputId": "98457a0e-1de7-40ee-e677-3e9c9ef949e0"
      },
      "execution_count": null,
      "outputs": [
        {
          "output_type": "execute_result",
          "data": {
            "text/plain": [
              "63"
            ]
          },
          "metadata": {},
          "execution_count": 22
        }
      ]
    },
    {
      "cell_type": "code",
      "source": [
        "Percentage"
      ],
      "metadata": {
        "colab": {
          "base_uri": "https://localhost:8080/"
        },
        "id": "rECBeRYwVqp9",
        "outputId": "ebd66196-b185-4237-a2a2-7eff52297a70"
      },
      "execution_count": null,
      "outputs": [
        {
          "output_type": "execute_result",
          "data": {
            "text/plain": [
              "array([ 2255.225482 ,   629.9553062, 11601.63022  , 25306.82494  ,\n",
              "       27266.40335  , 19466.99052  ,   588.3691778,  2890.345675 ,\n",
              "       24733.62696  ,  1445.760002 ,  4803.398244 ,  2618.876037 ,\n",
              "         590.4521124,   665.7982328,  7122.938458 ,  2639.54156  ,\n",
              "        3362.4656   , 15378.16704  , 30860.12808  ,  2579.115607 ,\n",
              "        6525.541272 ,   229.6769525,  2242.689259 , 27570.4852   ,\n",
              "       23016.84778  ,  1334.646773 ,   402.6953275,  6047.200797 ,\n",
              "         394.1156638,   385.5793827,  1414.072488 ,  5745.981529 ,\n",
              "         837.7464011,  1206.991065 , 27715.52837  , 18937.24998  ,\n",
              "       39578.07441  ,   478.2194906, 16684.21278  ,   279.2204061,\n",
              "        5345.213415 ,  6288.25324  ,  1908.304416 ,   274.8728621,\n",
              "       14646.42094  , 40034.85063  ,   672.1547506,  3359.517402 ,\n",
              "       36152.66676  ,  3054.727742 , 33529.83052  ,  3825.093781 ,\n",
              "       15428.32098  , 33630.24604  , 39170.41371  ,  2699.123242 ,\n",
              "       21058.43643  , 28272.40661  , 37691.02733  ,  9581.05659  ,\n",
              "        5671.912202 ,   757.4009286,   347.7456605])"
            ]
          },
          "metadata": {},
          "execution_count": 23
        }
      ]
    },
    {
      "cell_type": "code",
      "source": [
        "for i in range(0,len(countries)):\n",
        "  print('Evaluate the country Name',countries[i] , 'and GDP of',countries[i],'is',Percentage[i])"
      ],
      "metadata": {
        "colab": {
          "base_uri": "https://localhost:8080/"
        },
        "id": "Cvn9hKxJVLpq",
        "outputId": "32783639-9d2f-4fa3-b683-594fc3a4d20d"
      },
      "execution_count": null,
      "outputs": [
        {
          "output_type": "stream",
          "name": "stdout",
          "text": [
            "Evaluate the country Name Algeria and GDP of Algeria is 2255.225482\n",
            "Evaluate the country Name Angola and GDP of Angola is 629.9553062\n",
            "Evaluate the country Name Argentina and GDP of Argentina is 11601.63022\n",
            "Evaluate the country Name Australia and GDP of Australia is 25306.82494\n",
            "Evaluate the country Name Austria and GDP of Austria is 27266.40335\n",
            "Evaluate the country Name Bahamas and GDP of Bahamas is 19466.99052\n",
            "Evaluate the country Name Bangladesh and GDP of Bangladesh is 588.3691778\n",
            "Evaluate the country Name Belarus and GDP of Belarus is 2890.345675\n",
            "Evaluate the country Name Belgium and GDP of Belgium is 24733.62696\n",
            "Evaluate the country Name Bhutan and GDP of Bhutan is 1445.760002\n",
            "Evaluate the country Name Brazil and GDP of Brazil is 4803.398244\n",
            "Evaluate the country Name Bulgaria and GDP of Bulgaria is 2618.876037\n",
            "Evaluate the country Name Cambodia and GDP of Cambodia is 590.4521124\n",
            "Evaluate the country Name Cameroon and GDP of Cameroon is 665.7982328\n",
            "Evaluate the country Name Chile and GDP of Chile is 7122.938458\n",
            "Evaluate the country Name China and GDP of China is 2639.54156\n",
            "Evaluate the country Name Colombia and GDP of Colombia is 3362.4656\n",
            "Evaluate the country Name Cyprus and GDP of Cyprus is 15378.16704\n",
            "Evaluate the country Name Denmark and GDP of Denmark is 30860.12808\n",
            "Evaluate the country Name El Salvador and GDP of El Salvador is 2579.115607\n",
            "Evaluate the country Name Estonia and GDP of Estonia is 6525.541272\n",
            "Evaluate the country Name Ethiopia and GDP of Ethiopia is 229.6769525\n",
            "Evaluate the country Name Fiji and GDP of Fiji is 2242.689259\n",
            "Evaluate the country Name Finland and GDP of Finland is 27570.4852\n",
            "Evaluate the country Name France and GDP of France is 23016.84778\n",
            "Evaluate the country Name Georgia and GDP of Georgia is 1334.646773\n",
            "Evaluate the country Name Ghana and GDP of Ghana is 402.6953275\n",
            "Evaluate the country Name Grenada and GDP of Grenada is 6047.200797\n",
            "Evaluate the country Name Guinea and GDP of Guinea is 394.1156638\n",
            "Evaluate the country Name Haiti and GDP of Haiti is 385.5793827\n",
            "Evaluate the country Name Honduras and GDP of Honduras is 1414.072488\n",
            "Evaluate the country Name Hungary and GDP of Hungary is 5745.981529\n",
            "Evaluate the country Name India and GDP of India is 837.7464011\n",
            "Evaluate the country Name Indonesia and GDP of Indonesia is 1206.991065\n",
            "Evaluate the country Name Ireland and GDP of Ireland is 27715.52837\n",
            "Evaluate the country Name Italy and GDP of Italy is 18937.24998\n",
            "Evaluate the country Name Japan and GDP of Japan is 39578.07441\n",
            "Evaluate the country Name Kenya and GDP of Kenya is 478.2194906\n",
            "Evaluate the country Name South Korea and GDP of South Korea is 16684.21278\n",
            "Evaluate the country Name Liberia and GDP of Liberia is 279.2204061\n",
            "Evaluate the country Name Malaysia and GDP of Malaysia is 5345.213415\n",
            "Evaluate the country Name Mexico and GDP of Mexico is 6288.25324\n",
            "Evaluate the country Name Morocco and GDP of Morocco is 1908.304416\n",
            "Evaluate the country Name Nepal and GDP of Nepal is 274.8728621\n",
            "Evaluate the country Name New Zealand and GDP of New Zealand is 14646.42094\n",
            "Evaluate the country Name Norway and GDP of Norway is 40034.85063\n",
            "Evaluate the country Name Pakistan and GDP of Pakistan is 672.1547506\n",
            "Evaluate the country Name Peru and GDP of Peru is 3359.517402\n",
            "Evaluate the country Name Qatar and GDP of Qatar is 36152.66676\n",
            "Evaluate the country Name Russia and GDP of Russia is 3054.727742\n",
            "Evaluate the country Name Singapore and GDP of Singapore is 33529.83052\n",
            "Evaluate the country Name South Africa and GDP of South Africa is 3825.093781\n",
            "Evaluate the country Name Spain and GDP of Spain is 15428.32098\n",
            "Evaluate the country Name Sweden and GDP of Sweden is 33630.24604\n",
            "Evaluate the country Name Switzerland and GDP of Switzerland is 39170.41371\n",
            "Evaluate the country Name Thailand and GDP of Thailand is 2699.123242\n",
            "Evaluate the country Name United Arab Emirates and GDP of United Arab Emirates is 21058.43643\n",
            "Evaluate the country Name United Kingdom and GDP of United Kingdom is 28272.40661\n",
            "Evaluate the country Name United States and GDP of United States is 37691.02733\n",
            "Evaluate the country Name Uruguay and GDP of Uruguay is 9581.05659\n",
            "Evaluate the country Name Venezuela and GDP of Venezuela is 5671.912202\n",
            "Evaluate the country Name Vietnam and GDP of Vietnam is 757.4009286\n",
            "Evaluate the country Name Zimbabwe and GDP of Zimbabwe is 347.7456605\n"
          ]
        }
      ]
    },
    {
      "cell_type": "markdown",
      "source": [
        "**Print the highest GDP value, lowest GDP value, mean GDP value, standardized GDP value, and the sum of all the GDPs\n",
        "**"
      ],
      "metadata": {
        "id": "UuHK6qpNWcSu"
      }
    },
    {
      "cell_type": "code",
      "source": [
        "#Highest GDP value\n",
        "print('Highest GDP Value =',Percentage.max())\n",
        "print('lowest GDP Value =',Percentage.min())\n",
        "print('mean GDP Value =',Percentage.mean())\n",
        "print('standardized GDP Value =',Percentage.std())\n",
        "print('sum of all GDP Value =',Percentage.sum())"
      ],
      "metadata": {
        "colab": {
          "base_uri": "https://localhost:8080/"
        },
        "id": "XPcK_cU2WePA",
        "outputId": "903449ff-e789-4127-e762-bdb61389855c"
      },
      "execution_count": null,
      "outputs": [
        {
          "output_type": "stream",
          "name": "stdout",
          "text": [
            "Highest GDP Value = 40034.85063\n",
            "lowest GDP Value = 229.6769525\n",
            "mean GDP Value = 11289.409271639683\n",
            "standardized GDP Value = 12743.828910617945\n",
            "sum of all GDP Value = 711232.7841133\n"
          ]
        }
      ]
    }
  ],
  "metadata": {
    "colab": {
      "provenance": []
    },
    "kernelspec": {
      "display_name": "Python 3",
      "name": "python3"
    },
    "language_info": {
      "name": "python"
    }
  },
  "nbformat": 4,
  "nbformat_minor": 0
}